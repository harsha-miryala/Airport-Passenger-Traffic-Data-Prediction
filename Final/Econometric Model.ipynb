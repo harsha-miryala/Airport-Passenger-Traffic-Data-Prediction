{
 "cells": [
  {
   "cell_type": "code",
   "execution_count": 1,
   "metadata": {
    "colab": {},
    "colab_type": "code",
    "id": "mHGOrUFSJ_4w"
   },
   "outputs": [],
   "source": [
    "import pandas as pd\n",
    "import numpy as np\n",
    "import datetime\n",
    "from pandasql import sqldf\n",
    "pysql = lambda q: sqldf(q, globals())"
   ]
  },
  {
   "cell_type": "code",
   "execution_count": 44,
   "metadata": {
    "colab": {
     "base_uri": "https://localhost:8080/",
     "height": 515
    },
    "colab_type": "code",
    "id": "dJBpKJUnKNIs",
    "outputId": "940850b1-55f8-4293-894c-4e94f64a0912"
   },
   "outputs": [
    {
     "data": {
      "text/html": [
       "<div>\n",
       "<style scoped>\n",
       "    .dataframe tbody tr th:only-of-type {\n",
       "        vertical-align: middle;\n",
       "    }\n",
       "\n",
       "    .dataframe tbody tr th {\n",
       "        vertical-align: top;\n",
       "    }\n",
       "\n",
       "    .dataframe thead th {\n",
       "        text-align: right;\n",
       "    }\n",
       "</style>\n",
       "<table border=\"1\" class=\"dataframe\">\n",
       "  <thead>\n",
       "    <tr style=\"text-align: right;\">\n",
       "      <th></th>\n",
       "      <th>Indicator_Name</th>\n",
       "      <th>Adjusted net national income per capita (annual % growth)</th>\n",
       "      <th>Age dependency ratio (% of working-age population)</th>\n",
       "      <th>Air transport, passengers carried</th>\n",
       "      <th>Consumer price index (2010 = 100)</th>\n",
       "      <th>Employment to population ratio, 15+, total (%) (national estimate)</th>\n",
       "      <th>Fuel exports (% of merchandise exports)</th>\n",
       "      <th>Fuel imports (% of merchandise imports)</th>\n",
       "      <th>GDP (current US$)</th>\n",
       "      <th>GDP per capita (current US$)</th>\n",
       "      <th>Imports of goods and services (% of GDP)</th>\n",
       "      <th>Inflation, consumer prices (annual %)</th>\n",
       "      <th>Population ages 15-64 (% of total)</th>\n",
       "      <th>Population ages 15-64, total</th>\n",
       "      <th>Population growth (annual %)</th>\n",
       "      <th>Population, total</th>\n",
       "      <th>Urban population (% of total)</th>\n",
       "    </tr>\n",
       "  </thead>\n",
       "  <tbody>\n",
       "    <tr>\n",
       "      <th>0</th>\n",
       "      <td>1981</td>\n",
       "      <td>3.143402</td>\n",
       "      <td>52.769194</td>\n",
       "      <td>13219500.0</td>\n",
       "      <td>30.020812</td>\n",
       "      <td>57.599998</td>\n",
       "      <td>16.006403</td>\n",
       "      <td>13.592959</td>\n",
       "      <td>176599000000</td>\n",
       "      <td>11830.86532</td>\n",
       "      <td>16.744354</td>\n",
       "      <td>9.487666</td>\n",
       "      <td>65.458226</td>\n",
       "      <td>9770949</td>\n",
       "      <td>1.586853</td>\n",
       "      <td>14927000</td>\n",
       "      <td>85.700</td>\n",
       "    </tr>\n",
       "    <tr>\n",
       "      <th>1</th>\n",
       "      <td>1982</td>\n",
       "      <td>0.508062</td>\n",
       "      <td>52.269485</td>\n",
       "      <td>13187900.0</td>\n",
       "      <td>33.428720</td>\n",
       "      <td>56.427502</td>\n",
       "      <td>18.219829</td>\n",
       "      <td>14.434542</td>\n",
       "      <td>193722000000</td>\n",
       "      <td>12763.32361</td>\n",
       "      <td>16.833742</td>\n",
       "      <td>11.351820</td>\n",
       "      <td>65.673042</td>\n",
       "      <td>9967854</td>\n",
       "      <td>1.667536</td>\n",
       "      <td>15178000</td>\n",
       "      <td>85.670</td>\n",
       "    </tr>\n",
       "    <tr>\n",
       "      <th>2</th>\n",
       "      <td>1983</td>\n",
       "      <td>-0.861468</td>\n",
       "      <td>51.967464</td>\n",
       "      <td>12601500.0</td>\n",
       "      <td>36.784599</td>\n",
       "      <td>54.416599</td>\n",
       "      <td>23.156939</td>\n",
       "      <td>10.828450</td>\n",
       "      <td>176986000000</td>\n",
       "      <td>11515.80647</td>\n",
       "      <td>15.627413</td>\n",
       "      <td>10.038911</td>\n",
       "      <td>65.803562</td>\n",
       "      <td>10113349</td>\n",
       "      <td>1.250548</td>\n",
       "      <td>15369000</td>\n",
       "      <td>85.641</td>\n",
       "    </tr>\n",
       "    <tr>\n",
       "      <th>3</th>\n",
       "      <td>1984</td>\n",
       "      <td>3.270454</td>\n",
       "      <td>51.633972</td>\n",
       "      <td>13236800.0</td>\n",
       "      <td>38.241415</td>\n",
       "      <td>55.108700</td>\n",
       "      <td>24.357027</td>\n",
       "      <td>9.012943</td>\n",
       "      <td>193194000000</td>\n",
       "      <td>12428.85793</td>\n",
       "      <td>15.009024</td>\n",
       "      <td>3.960396</td>\n",
       "      <td>65.948285</td>\n",
       "      <td>10251001</td>\n",
       "      <td>1.132222</td>\n",
       "      <td>15544000</td>\n",
       "      <td>85.611</td>\n",
       "    </tr>\n",
       "    <tr>\n",
       "      <th>4</th>\n",
       "      <td>1985</td>\n",
       "      <td>0.427975</td>\n",
       "      <td>51.186393</td>\n",
       "      <td>14412100.0</td>\n",
       "      <td>40.816857</td>\n",
       "      <td>55.784199</td>\n",
       "      <td>26.911089</td>\n",
       "      <td>6.756610</td>\n",
       "      <td>180191000000</td>\n",
       "      <td>11434.88989</td>\n",
       "      <td>17.309665</td>\n",
       "      <td>6.734694</td>\n",
       "      <td>66.143516</td>\n",
       "      <td>10422895</td>\n",
       "      <td>1.367346</td>\n",
       "      <td>15758000</td>\n",
       "      <td>85.582</td>\n",
       "    </tr>\n",
       "    <tr>\n",
       "      <th>5</th>\n",
       "      <td>1986</td>\n",
       "      <td>1.215482</td>\n",
       "      <td>51.012782</td>\n",
       "      <td>15497300.0</td>\n",
       "      <td>44.510926</td>\n",
       "      <td>56.886501</td>\n",
       "      <td>22.828880</td>\n",
       "      <td>4.622227</td>\n",
       "      <td>181977000000</td>\n",
       "      <td>11360.52766</td>\n",
       "      <td>18.086141</td>\n",
       "      <td>9.050351</td>\n",
       "      <td>66.219557</td>\n",
       "      <td>10607314</td>\n",
       "      <td>1.638989</td>\n",
       "      <td>16018400</td>\n",
       "      <td>85.552</td>\n",
       "    </tr>\n",
       "    <tr>\n",
       "      <th>6</th>\n",
       "      <td>1987</td>\n",
       "      <td>0.169411</td>\n",
       "      <td>50.603101</td>\n",
       "      <td>16880200.0</td>\n",
       "      <td>48.309053</td>\n",
       "      <td>56.935600</td>\n",
       "      <td>20.937695</td>\n",
       "      <td>4.868464</td>\n",
       "      <td>189041000000</td>\n",
       "      <td>11623.35967</td>\n",
       "      <td>17.094011</td>\n",
       "      <td>8.533022</td>\n",
       "      <td>66.399693</td>\n",
       "      <td>10799180</td>\n",
       "      <td>1.520987</td>\n",
       "      <td>16263900</td>\n",
       "      <td>85.522</td>\n",
       "    </tr>\n",
       "    <tr>\n",
       "      <th>7</th>\n",
       "      <td>1988</td>\n",
       "      <td>5.832533</td>\n",
       "      <td>50.107027</td>\n",
       "      <td>18816300.0</td>\n",
       "      <td>51.795005</td>\n",
       "      <td>57.872002</td>\n",
       "      <td>17.330317</td>\n",
       "      <td>4.021250</td>\n",
       "      <td>235700000000</td>\n",
       "      <td>14257.02216</td>\n",
       "      <td>16.644749</td>\n",
       "      <td>7.215940</td>\n",
       "      <td>66.619136</td>\n",
       "      <td>11013609</td>\n",
       "      <td>1.636207</td>\n",
       "      <td>16532200</td>\n",
       "      <td>85.493</td>\n",
       "    </tr>\n",
       "    <tr>\n",
       "      <th>8</th>\n",
       "      <td>1989</td>\n",
       "      <td>2.984112</td>\n",
       "      <td>49.742783</td>\n",
       "      <td>15114300.0</td>\n",
       "      <td>55.697190</td>\n",
       "      <td>59.259602</td>\n",
       "      <td>17.394747</td>\n",
       "      <td>5.136125</td>\n",
       "      <td>299318000000</td>\n",
       "      <td>17801.26827</td>\n",
       "      <td>16.979151</td>\n",
       "      <td>7.533903</td>\n",
       "      <td>66.781180</td>\n",
       "      <td>11228855</td>\n",
       "      <td>1.692567</td>\n",
       "      <td>16814400</td>\n",
       "      <td>85.463</td>\n",
       "    </tr>\n",
       "    <tr>\n",
       "      <th>9</th>\n",
       "      <td>1990</td>\n",
       "      <td>-0.112070</td>\n",
       "      <td>49.592036</td>\n",
       "      <td>17553400.0</td>\n",
       "      <td>59.781478</td>\n",
       "      <td>59.331699</td>\n",
       "      <td>21.454362</td>\n",
       "      <td>5.695178</td>\n",
       "      <td>310838000000</td>\n",
       "      <td>18214.83698</td>\n",
       "      <td>17.070363</td>\n",
       "      <td>7.333022</td>\n",
       "      <td>66.848477</td>\n",
       "      <td>11407759</td>\n",
       "      <td>1.479978</td>\n",
       "      <td>17065100</td>\n",
       "      <td>85.433</td>\n",
       "    </tr>\n",
       "  </tbody>\n",
       "</table>\n",
       "</div>"
      ],
      "text/plain": [
       "   Indicator_Name  Adjusted net national income per capita (annual % growth)  \\\n",
       "0            1981                                           3.143402           \n",
       "1            1982                                           0.508062           \n",
       "2            1983                                          -0.861468           \n",
       "3            1984                                           3.270454           \n",
       "4            1985                                           0.427975           \n",
       "5            1986                                           1.215482           \n",
       "6            1987                                           0.169411           \n",
       "7            1988                                           5.832533           \n",
       "8            1989                                           2.984112           \n",
       "9            1990                                          -0.112070           \n",
       "\n",
       "   Age dependency ratio (% of working-age population)  \\\n",
       "0                                          52.769194    \n",
       "1                                          52.269485    \n",
       "2                                          51.967464    \n",
       "3                                          51.633972    \n",
       "4                                          51.186393    \n",
       "5                                          51.012782    \n",
       "6                                          50.603101    \n",
       "7                                          50.107027    \n",
       "8                                          49.742783    \n",
       "9                                          49.592036    \n",
       "\n",
       "   Air transport, passengers carried  Consumer price index (2010 = 100)  \\\n",
       "0                         13219500.0                          30.020812   \n",
       "1                         13187900.0                          33.428720   \n",
       "2                         12601500.0                          36.784599   \n",
       "3                         13236800.0                          38.241415   \n",
       "4                         14412100.0                          40.816857   \n",
       "5                         15497300.0                          44.510926   \n",
       "6                         16880200.0                          48.309053   \n",
       "7                         18816300.0                          51.795005   \n",
       "8                         15114300.0                          55.697190   \n",
       "9                         17553400.0                          59.781478   \n",
       "\n",
       "   Employment to population ratio, 15+, total (%) (national estimate)  \\\n",
       "0                                          57.599998                    \n",
       "1                                          56.427502                    \n",
       "2                                          54.416599                    \n",
       "3                                          55.108700                    \n",
       "4                                          55.784199                    \n",
       "5                                          56.886501                    \n",
       "6                                          56.935600                    \n",
       "7                                          57.872002                    \n",
       "8                                          59.259602                    \n",
       "9                                          59.331699                    \n",
       "\n",
       "   Fuel exports (% of merchandise exports)  \\\n",
       "0                                16.006403   \n",
       "1                                18.219829   \n",
       "2                                23.156939   \n",
       "3                                24.357027   \n",
       "4                                26.911089   \n",
       "5                                22.828880   \n",
       "6                                20.937695   \n",
       "7                                17.330317   \n",
       "8                                17.394747   \n",
       "9                                21.454362   \n",
       "\n",
       "   Fuel imports (% of merchandise imports)  GDP (current US$)  \\\n",
       "0                                13.592959       176599000000   \n",
       "1                                14.434542       193722000000   \n",
       "2                                10.828450       176986000000   \n",
       "3                                 9.012943       193194000000   \n",
       "4                                 6.756610       180191000000   \n",
       "5                                 4.622227       181977000000   \n",
       "6                                 4.868464       189041000000   \n",
       "7                                 4.021250       235700000000   \n",
       "8                                 5.136125       299318000000   \n",
       "9                                 5.695178       310838000000   \n",
       "\n",
       "   GDP per capita (current US$)  Imports of goods and services (% of GDP)  \\\n",
       "0                   11830.86532                                 16.744354   \n",
       "1                   12763.32361                                 16.833742   \n",
       "2                   11515.80647                                 15.627413   \n",
       "3                   12428.85793                                 15.009024   \n",
       "4                   11434.88989                                 17.309665   \n",
       "5                   11360.52766                                 18.086141   \n",
       "6                   11623.35967                                 17.094011   \n",
       "7                   14257.02216                                 16.644749   \n",
       "8                   17801.26827                                 16.979151   \n",
       "9                   18214.83698                                 17.070363   \n",
       "\n",
       "   Inflation, consumer prices (annual %)  Population ages 15-64 (% of total)  \\\n",
       "0                               9.487666                           65.458226   \n",
       "1                              11.351820                           65.673042   \n",
       "2                              10.038911                           65.803562   \n",
       "3                               3.960396                           65.948285   \n",
       "4                               6.734694                           66.143516   \n",
       "5                               9.050351                           66.219557   \n",
       "6                               8.533022                           66.399693   \n",
       "7                               7.215940                           66.619136   \n",
       "8                               7.533903                           66.781180   \n",
       "9                               7.333022                           66.848477   \n",
       "\n",
       "   Population ages 15-64, total  Population growth (annual %)  \\\n",
       "0                       9770949                      1.586853   \n",
       "1                       9967854                      1.667536   \n",
       "2                      10113349                      1.250548   \n",
       "3                      10251001                      1.132222   \n",
       "4                      10422895                      1.367346   \n",
       "5                      10607314                      1.638989   \n",
       "6                      10799180                      1.520987   \n",
       "7                      11013609                      1.636207   \n",
       "8                      11228855                      1.692567   \n",
       "9                      11407759                      1.479978   \n",
       "\n",
       "   Population, total  Urban population (% of total)  \n",
       "0           14927000                         85.700  \n",
       "1           15178000                         85.670  \n",
       "2           15369000                         85.641  \n",
       "3           15544000                         85.611  \n",
       "4           15758000                         85.582  \n",
       "5           16018400                         85.552  \n",
       "6           16263900                         85.522  \n",
       "7           16532200                         85.493  \n",
       "8           16814400                         85.463  \n",
       "9           17065100                         85.433  "
      ]
     },
     "execution_count": 44,
     "metadata": {},
     "output_type": "execute_result"
    }
   ],
   "source": [
    "df = pd.read_csv('final3.csv')\n",
    "df.head(10)"
   ]
  },
  {
   "cell_type": "code",
   "execution_count": 45,
   "metadata": {
    "colab": {
     "base_uri": "https://localhost:8080/",
     "height": 34
    },
    "colab_type": "code",
    "id": "GtcwNrdIO36l",
    "outputId": "a864281c-6725-4d11-b130-545720b2b17a"
   },
   "outputs": [
    {
     "data": {
      "text/plain": [
       "(108, 17)"
      ]
     },
     "execution_count": 45,
     "metadata": {},
     "output_type": "execute_result"
    }
   ],
   "source": [
    "df.shape"
   ]
  },
  {
   "cell_type": "code",
   "execution_count": 46,
   "metadata": {
    "colab": {
     "base_uri": "https://localhost:8080/",
     "height": 272
    },
    "colab_type": "code",
    "id": "WSQ9l5Q7KXRW",
    "outputId": "40285d5c-3bd1-4531-daa9-c59ae1fc74ba"
   },
   "outputs": [
    {
     "data": {
      "text/plain": [
       "Index(['Indicator_Name',\n",
       "       'Adjusted net national income per capita (annual % growth)',\n",
       "       'Age dependency ratio (% of working-age population)',\n",
       "       'Air transport, passengers carried',\n",
       "       'Consumer price index (2010 = 100)',\n",
       "       'Employment to population ratio, 15+, total (%) (national estimate)',\n",
       "       'Fuel exports (% of merchandise exports)',\n",
       "       'Fuel imports (% of merchandise imports)', 'GDP (current US$)',\n",
       "       'GDP per capita (current US$)',\n",
       "       'Imports of goods and services (% of GDP)',\n",
       "       'Inflation, consumer prices (annual %)',\n",
       "       'Population ages 15-64 (% of total)', 'Population ages 15-64, total',\n",
       "       'Population growth (annual %)', 'Population, total',\n",
       "       'Urban population (% of total)'],\n",
       "      dtype='object')"
      ]
     },
     "execution_count": 46,
     "metadata": {},
     "output_type": "execute_result"
    }
   ],
   "source": [
    "df.columns\n",
    "#features = ['NNI','Age','CPI','Emp','Fuelexp','Fuelimp','GDP','GDPpc','Imports','Inflation','PopGrowth','PopTot','UrbTot']\n"
   ]
  },
  {
   "cell_type": "code",
   "execution_count": 47,
   "metadata": {
    "colab": {},
    "colab_type": "code",
    "id": "rEWSnVohKdJO"
   },
   "outputs": [],
   "source": [
    "cols = ['Year','Net National Income','Working Age Percentage','Total Passengers','Consumer Price Index','Employment to Population Ratio','Fuel Exports %','Fuel Imports %','GDP','GDP Per Capita','Imports','Inflation','Population Percentage(15-64)','Population Total(15-64)','Population Growth %','Population Total','Urban Population %']\n",
    "df.columns = cols"
   ]
  },
  {
   "cell_type": "code",
   "execution_count": 0,
   "metadata": {
    "colab": {},
    "colab_type": "code",
    "id": "tqBKRHfpQkvb"
   },
   "outputs": [],
   "source": [
    "#df.to_csv('file.csv',index = False)\n",
    "#files.download('file.csv')"
   ]
  },
  {
   "cell_type": "code",
   "execution_count": 48,
   "metadata": {
    "colab": {
     "base_uri": "https://localhost:8080/",
     "height": 34
    },
    "colab_type": "code",
    "id": "N-TUj81FLJya",
    "outputId": "0431ead9-2d65-42cd-9dca-553ebb984e12"
   },
   "outputs": [
    {
     "data": {
      "text/plain": [
       "True"
      ]
     },
     "execution_count": 48,
     "metadata": {},
     "output_type": "execute_result"
    }
   ],
   "source": [
    "df.isnull().values.any()"
   ]
  },
  {
   "cell_type": "code",
   "execution_count": 49,
   "metadata": {
    "colab": {},
    "colab_type": "code",
    "id": "WMzZKWCnNGmY"
   },
   "outputs": [],
   "source": [
    "df = df.dropna()"
   ]
  },
  {
   "cell_type": "code",
   "execution_count": 50,
   "metadata": {
    "colab": {
     "base_uri": "https://localhost:8080/",
     "height": 34
    },
    "colab_type": "code",
    "id": "U2orOrPxO8Qz",
    "outputId": "e592ea5e-98ff-4e27-f947-6152adf3ae49"
   },
   "outputs": [
    {
     "data": {
      "text/plain": [
       "(106, 17)"
      ]
     },
     "execution_count": 50,
     "metadata": {},
     "output_type": "execute_result"
    }
   ],
   "source": [
    "df.shape"
   ]
  },
  {
   "cell_type": "code",
   "execution_count": 51,
   "metadata": {
    "colab": {
     "base_uri": "https://localhost:8080/",
     "height": 34
    },
    "colab_type": "code",
    "id": "gtqP6exJNYTT",
    "outputId": "0129a976-e6ec-4050-cc59-f0368a564e1c"
   },
   "outputs": [
    {
     "data": {
      "text/plain": [
       "False"
      ]
     },
     "execution_count": 51,
     "metadata": {},
     "output_type": "execute_result"
    }
   ],
   "source": [
    "df.isnull().values.any()"
   ]
  },
  {
   "cell_type": "code",
   "execution_count": 52,
   "metadata": {
    "colab": {
     "base_uri": "https://localhost:8080/",
     "height": 885
    },
    "colab_type": "code",
    "id": "9B6gwtWqN5h5",
    "outputId": "06751a30-4919-4ed6-d426-861fe91fb1fd"
   },
   "outputs": [
    {
     "data": {
      "text/html": [
       "<div>\n",
       "<style scoped>\n",
       "    .dataframe tbody tr th:only-of-type {\n",
       "        vertical-align: middle;\n",
       "    }\n",
       "\n",
       "    .dataframe tbody tr th {\n",
       "        vertical-align: top;\n",
       "    }\n",
       "\n",
       "    .dataframe thead th {\n",
       "        text-align: right;\n",
       "    }\n",
       "</style>\n",
       "<table border=\"1\" class=\"dataframe\">\n",
       "  <thead>\n",
       "    <tr style=\"text-align: right;\">\n",
       "      <th></th>\n",
       "      <th>Year</th>\n",
       "      <th>Net National Income</th>\n",
       "      <th>Working Age Percentage</th>\n",
       "      <th>Total Passengers</th>\n",
       "      <th>Consumer Price Index</th>\n",
       "      <th>Employment to Population Ratio</th>\n",
       "      <th>Fuel Exports %</th>\n",
       "      <th>Fuel Imports %</th>\n",
       "      <th>GDP</th>\n",
       "      <th>GDP Per Capita</th>\n",
       "      <th>Imports</th>\n",
       "      <th>Inflation</th>\n",
       "      <th>Population Percentage(15-64)</th>\n",
       "      <th>Population Total(15-64)</th>\n",
       "      <th>Population Growth %</th>\n",
       "      <th>Population Total</th>\n",
       "      <th>Urban Population %</th>\n",
       "    </tr>\n",
       "  </thead>\n",
       "  <tbody>\n",
       "    <tr>\n",
       "      <th>Year</th>\n",
       "      <td>1.000000</td>\n",
       "      <td>-0.264745</td>\n",
       "      <td>-0.201981</td>\n",
       "      <td>0.238154</td>\n",
       "      <td>0.988878</td>\n",
       "      <td>0.385216</td>\n",
       "      <td>0.136886</td>\n",
       "      <td>0.161755</td>\n",
       "      <td>0.381158</td>\n",
       "      <td>0.914024</td>\n",
       "      <td>0.391145</td>\n",
       "      <td>-0.640399</td>\n",
       "      <td>0.207142</td>\n",
       "      <td>0.089959</td>\n",
       "      <td>0.086028</td>\n",
       "      <td>0.086720</td>\n",
       "      <td>0.348317</td>\n",
       "    </tr>\n",
       "    <tr>\n",
       "      <th>Net National Income</th>\n",
       "      <td>-0.264745</td>\n",
       "      <td>1.000000</td>\n",
       "      <td>0.155119</td>\n",
       "      <td>-0.102839</td>\n",
       "      <td>-0.249474</td>\n",
       "      <td>-0.103712</td>\n",
       "      <td>-0.116179</td>\n",
       "      <td>-0.243335</td>\n",
       "      <td>-0.152192</td>\n",
       "      <td>-0.287450</td>\n",
       "      <td>-0.021326</td>\n",
       "      <td>-0.098294</td>\n",
       "      <td>-0.153207</td>\n",
       "      <td>-0.057513</td>\n",
       "      <td>-0.206940</td>\n",
       "      <td>-0.054976</td>\n",
       "      <td>-0.196154</td>\n",
       "    </tr>\n",
       "    <tr>\n",
       "      <th>Working Age Percentage</th>\n",
       "      <td>-0.201981</td>\n",
       "      <td>0.155119</td>\n",
       "      <td>1.000000</td>\n",
       "      <td>-0.091309</td>\n",
       "      <td>-0.127703</td>\n",
       "      <td>-0.302745</td>\n",
       "      <td>-0.529177</td>\n",
       "      <td>-0.374409</td>\n",
       "      <td>-0.118406</td>\n",
       "      <td>-0.258963</td>\n",
       "      <td>0.292305</td>\n",
       "      <td>-0.014241</td>\n",
       "      <td>-0.999896</td>\n",
       "      <td>-0.007027</td>\n",
       "      <td>-0.596142</td>\n",
       "      <td>0.001053</td>\n",
       "      <td>-0.486701</td>\n",
       "    </tr>\n",
       "    <tr>\n",
       "      <th>Total Passengers</th>\n",
       "      <td>0.238154</td>\n",
       "      <td>-0.102839</td>\n",
       "      <td>-0.091309</td>\n",
       "      <td>1.000000</td>\n",
       "      <td>0.246288</td>\n",
       "      <td>0.567650</td>\n",
       "      <td>-0.620792</td>\n",
       "      <td>0.436302</td>\n",
       "      <td>0.964813</td>\n",
       "      <td>0.392834</td>\n",
       "      <td>-0.599564</td>\n",
       "      <td>-0.239373</td>\n",
       "      <td>0.087624</td>\n",
       "      <td>0.975651</td>\n",
       "      <td>-0.007026</td>\n",
       "      <td>0.974551</td>\n",
       "      <td>-0.427712</td>\n",
       "    </tr>\n",
       "    <tr>\n",
       "      <th>Consumer Price Index</th>\n",
       "      <td>0.988878</td>\n",
       "      <td>-0.249474</td>\n",
       "      <td>-0.127703</td>\n",
       "      <td>0.246288</td>\n",
       "      <td>1.000000</td>\n",
       "      <td>0.373584</td>\n",
       "      <td>0.071724</td>\n",
       "      <td>0.157715</td>\n",
       "      <td>0.385187</td>\n",
       "      <td>0.911131</td>\n",
       "      <td>0.411490</td>\n",
       "      <td>-0.663217</td>\n",
       "      <td>0.133190</td>\n",
       "      <td>0.113050</td>\n",
       "      <td>0.002668</td>\n",
       "      <td>0.110318</td>\n",
       "      <td>0.257862</td>\n",
       "    </tr>\n",
       "    <tr>\n",
       "      <th>Employment to Population Ratio</th>\n",
       "      <td>0.385216</td>\n",
       "      <td>-0.103712</td>\n",
       "      <td>-0.302745</td>\n",
       "      <td>0.567650</td>\n",
       "      <td>0.373584</td>\n",
       "      <td>1.000000</td>\n",
       "      <td>-0.257981</td>\n",
       "      <td>0.280816</td>\n",
       "      <td>0.460361</td>\n",
       "      <td>0.522705</td>\n",
       "      <td>-0.438425</td>\n",
       "      <td>-0.249343</td>\n",
       "      <td>0.303903</td>\n",
       "      <td>0.521346</td>\n",
       "      <td>0.450208</td>\n",
       "      <td>0.522180</td>\n",
       "      <td>-0.131080</td>\n",
       "    </tr>\n",
       "    <tr>\n",
       "      <th>Fuel Exports %</th>\n",
       "      <td>0.136886</td>\n",
       "      <td>-0.116179</td>\n",
       "      <td>-0.529177</td>\n",
       "      <td>-0.620792</td>\n",
       "      <td>0.071724</td>\n",
       "      <td>-0.257981</td>\n",
       "      <td>1.000000</td>\n",
       "      <td>-0.006453</td>\n",
       "      <td>-0.535477</td>\n",
       "      <td>0.067719</td>\n",
       "      <td>0.294331</td>\n",
       "      <td>0.147101</td>\n",
       "      <td>0.532967</td>\n",
       "      <td>-0.710830</td>\n",
       "      <td>0.496052</td>\n",
       "      <td>-0.714763</td>\n",
       "      <td>0.823522</td>\n",
       "    </tr>\n",
       "    <tr>\n",
       "      <th>Fuel Imports %</th>\n",
       "      <td>0.161755</td>\n",
       "      <td>-0.243335</td>\n",
       "      <td>-0.374409</td>\n",
       "      <td>0.436302</td>\n",
       "      <td>0.157715</td>\n",
       "      <td>0.280816</td>\n",
       "      <td>-0.006453</td>\n",
       "      <td>1.000000</td>\n",
       "      <td>0.415577</td>\n",
       "      <td>0.367189</td>\n",
       "      <td>-0.336715</td>\n",
       "      <td>0.153403</td>\n",
       "      <td>0.373607</td>\n",
       "      <td>0.465066</td>\n",
       "      <td>0.231526</td>\n",
       "      <td>0.460385</td>\n",
       "      <td>-0.152936</td>\n",
       "    </tr>\n",
       "    <tr>\n",
       "      <th>GDP</th>\n",
       "      <td>0.381158</td>\n",
       "      <td>-0.152192</td>\n",
       "      <td>-0.118406</td>\n",
       "      <td>0.964813</td>\n",
       "      <td>0.385187</td>\n",
       "      <td>0.460361</td>\n",
       "      <td>-0.535477</td>\n",
       "      <td>0.415577</td>\n",
       "      <td>1.000000</td>\n",
       "      <td>0.504070</td>\n",
       "      <td>-0.444690</td>\n",
       "      <td>-0.293687</td>\n",
       "      <td>0.115457</td>\n",
       "      <td>0.907369</td>\n",
       "      <td>-0.068659</td>\n",
       "      <td>0.904712</td>\n",
       "      <td>-0.294704</td>\n",
       "    </tr>\n",
       "    <tr>\n",
       "      <th>GDP Per Capita</th>\n",
       "      <td>0.914024</td>\n",
       "      <td>-0.287450</td>\n",
       "      <td>-0.258963</td>\n",
       "      <td>0.392834</td>\n",
       "      <td>0.911131</td>\n",
       "      <td>0.522705</td>\n",
       "      <td>0.067719</td>\n",
       "      <td>0.367189</td>\n",
       "      <td>0.504070</td>\n",
       "      <td>1.000000</td>\n",
       "      <td>0.167453</td>\n",
       "      <td>-0.535998</td>\n",
       "      <td>0.262053</td>\n",
       "      <td>0.265377</td>\n",
       "      <td>0.178726</td>\n",
       "      <td>0.262037</td>\n",
       "      <td>0.221061</td>\n",
       "    </tr>\n",
       "    <tr>\n",
       "      <th>Imports</th>\n",
       "      <td>0.391145</td>\n",
       "      <td>-0.021326</td>\n",
       "      <td>0.292305</td>\n",
       "      <td>-0.599564</td>\n",
       "      <td>0.411490</td>\n",
       "      <td>-0.438425</td>\n",
       "      <td>0.294331</td>\n",
       "      <td>-0.336715</td>\n",
       "      <td>-0.444690</td>\n",
       "      <td>0.167453</td>\n",
       "      <td>1.000000</td>\n",
       "      <td>-0.208437</td>\n",
       "      <td>-0.286922</td>\n",
       "      <td>-0.649896</td>\n",
       "      <td>-0.408081</td>\n",
       "      <td>-0.650363</td>\n",
       "      <td>0.291185</td>\n",
       "    </tr>\n",
       "    <tr>\n",
       "      <th>Inflation</th>\n",
       "      <td>-0.640399</td>\n",
       "      <td>-0.098294</td>\n",
       "      <td>-0.014241</td>\n",
       "      <td>-0.239373</td>\n",
       "      <td>-0.663217</td>\n",
       "      <td>-0.249343</td>\n",
       "      <td>0.147101</td>\n",
       "      <td>0.153403</td>\n",
       "      <td>-0.293687</td>\n",
       "      <td>-0.535998</td>\n",
       "      <td>-0.208437</td>\n",
       "      <td>1.000000</td>\n",
       "      <td>0.010772</td>\n",
       "      <td>-0.177707</td>\n",
       "      <td>0.229938</td>\n",
       "      <td>-0.177676</td>\n",
       "      <td>0.043643</td>\n",
       "    </tr>\n",
       "    <tr>\n",
       "      <th>Population Percentage(15-64)</th>\n",
       "      <td>0.207142</td>\n",
       "      <td>-0.153207</td>\n",
       "      <td>-0.999896</td>\n",
       "      <td>0.087624</td>\n",
       "      <td>0.133190</td>\n",
       "      <td>0.303903</td>\n",
       "      <td>0.532967</td>\n",
       "      <td>0.373607</td>\n",
       "      <td>0.115457</td>\n",
       "      <td>0.262053</td>\n",
       "      <td>-0.286922</td>\n",
       "      <td>0.010772</td>\n",
       "      <td>1.000000</td>\n",
       "      <td>0.002568</td>\n",
       "      <td>0.596555</td>\n",
       "      <td>-0.005515</td>\n",
       "      <td>0.490672</td>\n",
       "    </tr>\n",
       "    <tr>\n",
       "      <th>Population Total(15-64)</th>\n",
       "      <td>0.089959</td>\n",
       "      <td>-0.057513</td>\n",
       "      <td>-0.007027</td>\n",
       "      <td>0.975651</td>\n",
       "      <td>0.113050</td>\n",
       "      <td>0.521346</td>\n",
       "      <td>-0.710830</td>\n",
       "      <td>0.465066</td>\n",
       "      <td>0.907369</td>\n",
       "      <td>0.265377</td>\n",
       "      <td>-0.649896</td>\n",
       "      <td>-0.177707</td>\n",
       "      <td>0.002568</td>\n",
       "      <td>1.000000</td>\n",
       "      <td>-0.080467</td>\n",
       "      <td>0.999930</td>\n",
       "      <td>-0.592334</td>\n",
       "    </tr>\n",
       "    <tr>\n",
       "      <th>Population Growth %</th>\n",
       "      <td>0.086028</td>\n",
       "      <td>-0.206940</td>\n",
       "      <td>-0.596142</td>\n",
       "      <td>-0.007026</td>\n",
       "      <td>0.002668</td>\n",
       "      <td>0.450208</td>\n",
       "      <td>0.496052</td>\n",
       "      <td>0.231526</td>\n",
       "      <td>-0.068659</td>\n",
       "      <td>0.178726</td>\n",
       "      <td>-0.408081</td>\n",
       "      <td>0.229938</td>\n",
       "      <td>0.596555</td>\n",
       "      <td>-0.080467</td>\n",
       "      <td>1.000000</td>\n",
       "      <td>-0.081880</td>\n",
       "      <td>0.546033</td>\n",
       "    </tr>\n",
       "    <tr>\n",
       "      <th>Population Total</th>\n",
       "      <td>0.086720</td>\n",
       "      <td>-0.054976</td>\n",
       "      <td>0.001053</td>\n",
       "      <td>0.974551</td>\n",
       "      <td>0.110318</td>\n",
       "      <td>0.522180</td>\n",
       "      <td>-0.714763</td>\n",
       "      <td>0.460385</td>\n",
       "      <td>0.904712</td>\n",
       "      <td>0.262037</td>\n",
       "      <td>-0.650363</td>\n",
       "      <td>-0.177676</td>\n",
       "      <td>-0.005515</td>\n",
       "      <td>0.999930</td>\n",
       "      <td>-0.081880</td>\n",
       "      <td>1.000000</td>\n",
       "      <td>-0.597204</td>\n",
       "    </tr>\n",
       "    <tr>\n",
       "      <th>Urban Population %</th>\n",
       "      <td>0.348317</td>\n",
       "      <td>-0.196154</td>\n",
       "      <td>-0.486701</td>\n",
       "      <td>-0.427712</td>\n",
       "      <td>0.257862</td>\n",
       "      <td>-0.131080</td>\n",
       "      <td>0.823522</td>\n",
       "      <td>-0.152936</td>\n",
       "      <td>-0.294704</td>\n",
       "      <td>0.221061</td>\n",
       "      <td>0.291185</td>\n",
       "      <td>0.043643</td>\n",
       "      <td>0.490672</td>\n",
       "      <td>-0.592334</td>\n",
       "      <td>0.546033</td>\n",
       "      <td>-0.597204</td>\n",
       "      <td>1.000000</td>\n",
       "    </tr>\n",
       "  </tbody>\n",
       "</table>\n",
       "</div>"
      ],
      "text/plain": [
       "                                    Year  Net National Income  \\\n",
       "Year                            1.000000            -0.264745   \n",
       "Net National Income            -0.264745             1.000000   \n",
       "Working Age Percentage         -0.201981             0.155119   \n",
       "Total Passengers                0.238154            -0.102839   \n",
       "Consumer Price Index            0.988878            -0.249474   \n",
       "Employment to Population Ratio  0.385216            -0.103712   \n",
       "Fuel Exports %                  0.136886            -0.116179   \n",
       "Fuel Imports %                  0.161755            -0.243335   \n",
       "GDP                             0.381158            -0.152192   \n",
       "GDP Per Capita                  0.914024            -0.287450   \n",
       "Imports                         0.391145            -0.021326   \n",
       "Inflation                      -0.640399            -0.098294   \n",
       "Population Percentage(15-64)    0.207142            -0.153207   \n",
       "Population Total(15-64)         0.089959            -0.057513   \n",
       "Population Growth %             0.086028            -0.206940   \n",
       "Population Total                0.086720            -0.054976   \n",
       "Urban Population %              0.348317            -0.196154   \n",
       "\n",
       "                                Working Age Percentage  Total Passengers  \\\n",
       "Year                                         -0.201981          0.238154   \n",
       "Net National Income                           0.155119         -0.102839   \n",
       "Working Age Percentage                        1.000000         -0.091309   \n",
       "Total Passengers                             -0.091309          1.000000   \n",
       "Consumer Price Index                         -0.127703          0.246288   \n",
       "Employment to Population Ratio               -0.302745          0.567650   \n",
       "Fuel Exports %                               -0.529177         -0.620792   \n",
       "Fuel Imports %                               -0.374409          0.436302   \n",
       "GDP                                          -0.118406          0.964813   \n",
       "GDP Per Capita                               -0.258963          0.392834   \n",
       "Imports                                       0.292305         -0.599564   \n",
       "Inflation                                    -0.014241         -0.239373   \n",
       "Population Percentage(15-64)                 -0.999896          0.087624   \n",
       "Population Total(15-64)                      -0.007027          0.975651   \n",
       "Population Growth %                          -0.596142         -0.007026   \n",
       "Population Total                              0.001053          0.974551   \n",
       "Urban Population %                           -0.486701         -0.427712   \n",
       "\n",
       "                                Consumer Price Index  \\\n",
       "Year                                        0.988878   \n",
       "Net National Income                        -0.249474   \n",
       "Working Age Percentage                     -0.127703   \n",
       "Total Passengers                            0.246288   \n",
       "Consumer Price Index                        1.000000   \n",
       "Employment to Population Ratio              0.373584   \n",
       "Fuel Exports %                              0.071724   \n",
       "Fuel Imports %                              0.157715   \n",
       "GDP                                         0.385187   \n",
       "GDP Per Capita                              0.911131   \n",
       "Imports                                     0.411490   \n",
       "Inflation                                  -0.663217   \n",
       "Population Percentage(15-64)                0.133190   \n",
       "Population Total(15-64)                     0.113050   \n",
       "Population Growth %                         0.002668   \n",
       "Population Total                            0.110318   \n",
       "Urban Population %                          0.257862   \n",
       "\n",
       "                                Employment to Population Ratio  \\\n",
       "Year                                                  0.385216   \n",
       "Net National Income                                  -0.103712   \n",
       "Working Age Percentage                               -0.302745   \n",
       "Total Passengers                                      0.567650   \n",
       "Consumer Price Index                                  0.373584   \n",
       "Employment to Population Ratio                        1.000000   \n",
       "Fuel Exports %                                       -0.257981   \n",
       "Fuel Imports %                                        0.280816   \n",
       "GDP                                                   0.460361   \n",
       "GDP Per Capita                                        0.522705   \n",
       "Imports                                              -0.438425   \n",
       "Inflation                                            -0.249343   \n",
       "Population Percentage(15-64)                          0.303903   \n",
       "Population Total(15-64)                               0.521346   \n",
       "Population Growth %                                   0.450208   \n",
       "Population Total                                      0.522180   \n",
       "Urban Population %                                   -0.131080   \n",
       "\n",
       "                                Fuel Exports %  Fuel Imports %       GDP  \\\n",
       "Year                                  0.136886        0.161755  0.381158   \n",
       "Net National Income                  -0.116179       -0.243335 -0.152192   \n",
       "Working Age Percentage               -0.529177       -0.374409 -0.118406   \n",
       "Total Passengers                     -0.620792        0.436302  0.964813   \n",
       "Consumer Price Index                  0.071724        0.157715  0.385187   \n",
       "Employment to Population Ratio       -0.257981        0.280816  0.460361   \n",
       "Fuel Exports %                        1.000000       -0.006453 -0.535477   \n",
       "Fuel Imports %                       -0.006453        1.000000  0.415577   \n",
       "GDP                                  -0.535477        0.415577  1.000000   \n",
       "GDP Per Capita                        0.067719        0.367189  0.504070   \n",
       "Imports                               0.294331       -0.336715 -0.444690   \n",
       "Inflation                             0.147101        0.153403 -0.293687   \n",
       "Population Percentage(15-64)          0.532967        0.373607  0.115457   \n",
       "Population Total(15-64)              -0.710830        0.465066  0.907369   \n",
       "Population Growth %                   0.496052        0.231526 -0.068659   \n",
       "Population Total                     -0.714763        0.460385  0.904712   \n",
       "Urban Population %                    0.823522       -0.152936 -0.294704   \n",
       "\n",
       "                                GDP Per Capita   Imports  Inflation  \\\n",
       "Year                                  0.914024  0.391145  -0.640399   \n",
       "Net National Income                  -0.287450 -0.021326  -0.098294   \n",
       "Working Age Percentage               -0.258963  0.292305  -0.014241   \n",
       "Total Passengers                      0.392834 -0.599564  -0.239373   \n",
       "Consumer Price Index                  0.911131  0.411490  -0.663217   \n",
       "Employment to Population Ratio        0.522705 -0.438425  -0.249343   \n",
       "Fuel Exports %                        0.067719  0.294331   0.147101   \n",
       "Fuel Imports %                        0.367189 -0.336715   0.153403   \n",
       "GDP                                   0.504070 -0.444690  -0.293687   \n",
       "GDP Per Capita                        1.000000  0.167453  -0.535998   \n",
       "Imports                               0.167453  1.000000  -0.208437   \n",
       "Inflation                            -0.535998 -0.208437   1.000000   \n",
       "Population Percentage(15-64)          0.262053 -0.286922   0.010772   \n",
       "Population Total(15-64)               0.265377 -0.649896  -0.177707   \n",
       "Population Growth %                   0.178726 -0.408081   0.229938   \n",
       "Population Total                      0.262037 -0.650363  -0.177676   \n",
       "Urban Population %                    0.221061  0.291185   0.043643   \n",
       "\n",
       "                                Population Percentage(15-64)  \\\n",
       "Year                                                0.207142   \n",
       "Net National Income                                -0.153207   \n",
       "Working Age Percentage                             -0.999896   \n",
       "Total Passengers                                    0.087624   \n",
       "Consumer Price Index                                0.133190   \n",
       "Employment to Population Ratio                      0.303903   \n",
       "Fuel Exports %                                      0.532967   \n",
       "Fuel Imports %                                      0.373607   \n",
       "GDP                                                 0.115457   \n",
       "GDP Per Capita                                      0.262053   \n",
       "Imports                                            -0.286922   \n",
       "Inflation                                           0.010772   \n",
       "Population Percentage(15-64)                        1.000000   \n",
       "Population Total(15-64)                             0.002568   \n",
       "Population Growth %                                 0.596555   \n",
       "Population Total                                   -0.005515   \n",
       "Urban Population %                                  0.490672   \n",
       "\n",
       "                                Population Total(15-64)  Population Growth %  \\\n",
       "Year                                           0.089959             0.086028   \n",
       "Net National Income                           -0.057513            -0.206940   \n",
       "Working Age Percentage                        -0.007027            -0.596142   \n",
       "Total Passengers                               0.975651            -0.007026   \n",
       "Consumer Price Index                           0.113050             0.002668   \n",
       "Employment to Population Ratio                 0.521346             0.450208   \n",
       "Fuel Exports %                                -0.710830             0.496052   \n",
       "Fuel Imports %                                 0.465066             0.231526   \n",
       "GDP                                            0.907369            -0.068659   \n",
       "GDP Per Capita                                 0.265377             0.178726   \n",
       "Imports                                       -0.649896            -0.408081   \n",
       "Inflation                                     -0.177707             0.229938   \n",
       "Population Percentage(15-64)                   0.002568             0.596555   \n",
       "Population Total(15-64)                        1.000000            -0.080467   \n",
       "Population Growth %                           -0.080467             1.000000   \n",
       "Population Total                               0.999930            -0.081880   \n",
       "Urban Population %                            -0.592334             0.546033   \n",
       "\n",
       "                                Population Total  Urban Population %  \n",
       "Year                                    0.086720            0.348317  \n",
       "Net National Income                    -0.054976           -0.196154  \n",
       "Working Age Percentage                  0.001053           -0.486701  \n",
       "Total Passengers                        0.974551           -0.427712  \n",
       "Consumer Price Index                    0.110318            0.257862  \n",
       "Employment to Population Ratio          0.522180           -0.131080  \n",
       "Fuel Exports %                         -0.714763            0.823522  \n",
       "Fuel Imports %                          0.460385           -0.152936  \n",
       "GDP                                     0.904712           -0.294704  \n",
       "GDP Per Capita                          0.262037            0.221061  \n",
       "Imports                                -0.650363            0.291185  \n",
       "Inflation                              -0.177676            0.043643  \n",
       "Population Percentage(15-64)           -0.005515            0.490672  \n",
       "Population Total(15-64)                 0.999930           -0.592334  \n",
       "Population Growth %                    -0.081880            0.546033  \n",
       "Population Total                        1.000000           -0.597204  \n",
       "Urban Population %                     -0.597204            1.000000  "
      ]
     },
     "execution_count": 52,
     "metadata": {},
     "output_type": "execute_result"
    }
   ],
   "source": [
    "corr = df.corr()\n",
    "corr"
   ]
  },
  {
   "cell_type": "code",
   "execution_count": 53,
   "metadata": {
    "colab": {
     "base_uri": "https://localhost:8080/",
     "height": 436
    },
    "colab_type": "code",
    "id": "2J4yr6hMOPrQ",
    "outputId": "6361088d-7988-4118-e8b3-9692076f0657"
   },
   "outputs": [
    {
     "data": {
      "text/plain": [
       "<matplotlib.axes._subplots.AxesSubplot at 0x7f4f28797278>"
      ]
     },
     "execution_count": 53,
     "metadata": {},
     "output_type": "execute_result"
    },
    {
     "data": {
      "image/png": "[encoded data removed]",
      "text/plain": [
       "<Figure size 432x288 with 2 Axes>"
      ]
     },
     "metadata": {
      "needs_background": "light"
     },
     "output_type": "display_data"
    }
   ],
   "source": [
    "import seaborn as sns\n",
    "sns.heatmap(corr)"
   ]
  },
  {
   "cell_type": "code",
   "execution_count": 0,
   "metadata": {
    "colab": {},
    "colab_type": "code",
    "id": "grdiFWWOF-T8"
   },
   "outputs": [],
   "source": [
    "#df = df.drop([31])\n",
    "#df.head(35)"
   ]
  },
  {
   "cell_type": "code",
   "execution_count": 54,
   "metadata": {
    "colab": {},
    "colab_type": "code",
    "id": "mqYsLee-NdYe"
   },
   "outputs": [],
   "source": [
    "from sklearn.model_selection import train_test_split\n",
    "Xtrain,Xtest=train_test_split(df,test_size=0.05)"
   ]
  },
  {
   "cell_type": "code",
   "execution_count": 78,
   "metadata": {
    "colab": {},
    "colab_type": "code",
    "id": "x_b2E3v0ZPQ8"
   },
   "outputs": [],
   "source": [
    "#cols = ['Year','Net National Income','Working Age Percentage','Total Passengers','Consumer Price Index','Employment to Population Ratio','Fuel Exports %','Fuel Imports %','GDP','GDP Per Capita','Imports','Inflation','Population Percentage(15-64)','Population Total(15-64)','Population Growth%','Population Total','Urban Population %']\n",
    "features = ['Net National Income','Consumer Price Index','Employment to Population Ratio','Fuel Imports %','GDP','GDP Per Capita','Imports','Population Growth %','Population Total','Urban Population %']\n",
    "target = ['Total Passengers']\n",
    "features_all = ['Net National Income','Working Age Percentage','Consumer Price Index','Employment to Population Ratio','Fuel Exports %','Fuel Imports %','GDP','GDP Per Capita','Imports','Inflation','Population Percentage(15-64)','Population Total(15-64)','Population Growth %','Population Total','Urban Population %']"
   ]
  },
  {
   "cell_type": "code",
   "execution_count": 0,
   "metadata": {
    "colab": {},
    "colab_type": "code",
    "id": "q-kx6g5XNjNr"
   },
   "outputs": [],
   "source": [
    "#features = ['NNI','CPI','Emp','Fuelimp','GDP','GDPpc','Imports','PopGrowth','PopTot','UrbTot']\n",
    "#cols = ['Year','NNI','Age','Count','CPI','Emp','Fuelexp','Fuelimp','GDP','GDPpc','Imports','Inflation','Popperc','Pop15','PopGrowth','PopTot','UrbTot']\n",
    "#features = ['Fuel','EmpPop','NNI','Age','CPI','GDP','GNI','Imports','Inflation','Population','PopGrowth','UrbPop']\n",
    "#features = ['NNI','Age','CPI','Emp','Fuelimp','GDPpc','Imports','Inflation','PopGrowth','PopTot','UrbTot']\n",
    "\n",
    "#target = ['Count']"
   ]
  },
  {
   "cell_type": "code",
   "execution_count": 72,
   "metadata": {
    "colab": {
     "base_uri": "https://localhost:8080/",
     "height": 34
    },
    "colab_type": "code",
    "id": "mJzGweWcKkUh",
    "outputId": "b791b398-679d-4a45-fc2b-a6ab67124f10"
   },
   "outputs": [
    {
     "data": {
      "text/plain": [
       "(6, 17)"
      ]
     },
     "execution_count": 72,
     "metadata": {},
     "output_type": "execute_result"
    }
   ],
   "source": [
    "Xtest.shape"
   ]
  },
  {
   "cell_type": "code",
   "execution_count": 88,
   "metadata": {
    "colab": {},
    "colab_type": "code",
    "id": "gKMiNdITNolQ"
   },
   "outputs": [],
   "source": [
    "from sklearn.linear_model import LinearRegression\n",
    "from sklearn.linear_model import Ridge\n",
    "model = LinearRegression()\n",
    "clf = Ridge(alpha=1.0)\n",
    "clf2 = Ridge(alpha=1.0)\n",
    "clf3 = Ridge(alpha=1.0)\n",
    "clf4 = Ridge(alpha=1.0)"
   ]
  },
  {
   "cell_type": "code",
   "execution_count": 89,
   "metadata": {},
   "outputs": [
    {
     "data": {
      "text/plain": [
       "Ridge(alpha=1.0, copy_X=True, fit_intercept=True, max_iter=None,\n",
       "   normalize=False, random_state=None, solver='auto', tol=0.001)"
      ]
     },
     "execution_count": 89,
     "metadata": {},
     "output_type": "execute_result"
    }
   ],
   "source": [
    "clf3.fit(Xtrain[features_all],Xtrain[target])"
   ]
  },
  {
   "cell_type": "code",
   "execution_count": 90,
   "metadata": {
    "colab": {
     "base_uri": "https://localhost:8080/",
     "height": 105
    },
    "colab_type": "code",
    "id": "orGzxdMbNreJ",
    "outputId": "cc36f8ab-f191-4ba2-f0d6-1f5c2ca91dae"
   },
   "outputs": [
    {
     "data": {
      "text/plain": [
       "Ridge(alpha=1.0, copy_X=True, fit_intercept=True, max_iter=None,\n",
       "   normalize=False, random_state=None, solver='auto', tol=0.001)"
      ]
     },
     "execution_count": 90,
     "metadata": {},
     "output_type": "execute_result"
    }
   ],
   "source": [
    "clf.fit(Xtrain[features],Xtrain[target])"
   ]
  },
  {
   "cell_type": "code",
   "execution_count": 91,
   "metadata": {
    "colab": {},
    "colab_type": "code",
    "id": "Ne7-0c3UNtwp"
   },
   "outputs": [],
   "source": [
    "from sklearn.metrics import mean_squared_error\n",
    "from math import sqrt"
   ]
  },
  {
   "cell_type": "code",
   "execution_count": 92,
   "metadata": {
    "colab": {},
    "colab_type": "code",
    "id": "xDVmtULeNv0r"
   },
   "outputs": [],
   "source": [
    "y_pred = clf.predict(Xtest[features])\n",
    "#y_pred = np.absolute(y_pred)\n",
    "y_test = Xtest[target]\n",
    "y = Xtrain[target]"
   ]
  },
  {
   "cell_type": "code",
   "execution_count": 93,
   "metadata": {
    "colab": {
     "base_uri": "https://localhost:8080/",
     "height": 34
    },
    "colab_type": "code",
    "id": "EX8sP1khNx70",
    "outputId": "5bca0069-c483-421a-89b4-c4746f2c2062"
   },
   "outputs": [
    {
     "name": "stdout",
     "output_type": "stream",
     "text": [
      "RMS error is :  12227265.886622772\n"
     ]
    }
   ],
   "source": [
    "rms = sqrt(mean_squared_error(y_pred, y_test))\n",
    "print('RMS error is : ',rms)"
   ]
  },
  {
   "cell_type": "code",
   "execution_count": 94,
   "metadata": {
    "colab": {
     "base_uri": "https://localhost:8080/",
     "height": 51
    },
    "colab_type": "code",
    "id": "wC3lMR7WNz9d",
    "outputId": "92d05ba5-6ce6-4958-ab8e-110c391be941"
   },
   "outputs": [
    {
     "data": {
      "text/plain": [
       "Total Passengers    0.088944\n",
       "dtype: float64"
      ]
     },
     "execution_count": 94,
     "metadata": {},
     "output_type": "execute_result"
    }
   ],
   "source": [
    "rms/y_test.mean()"
   ]
  },
  {
   "cell_type": "code",
   "execution_count": 114,
   "metadata": {},
   "outputs": [
    {
     "name": "stdout",
     "output_type": "stream",
     "text": [
      "RMS error is :  12227265.886622772\n"
     ]
    },
    {
     "data": {
      "text/plain": [
       "Total Passengers    0.099976\n",
       "dtype: float64"
      ]
     },
     "execution_count": 114,
     "metadata": {},
     "output_type": "execute_result"
    }
   ],
   "source": [
    "y_pred = clf3.predict(Xtest[features_all])\n",
    "#y_pred = np.absolute(y_pred)\n",
    "y_test = Xtest[target]\n",
    "y = Xtrain[target]\n",
    "ms = sqrt(mean_squared_error(y_pred, y_test))\n",
    "print('RMS error is : ',rms)\n",
    "ms/y_test.mean()"
   ]
  },
  {
   "cell_type": "code",
   "execution_count": 103,
   "metadata": {
    "colab": {},
    "colab_type": "code",
    "id": "cpB_urlfxLCb"
   },
   "outputs": [],
   "source": [
    "#k cross validation\n",
    "\n",
    "X = df[features].values\n",
    "Y = df[target].values\n",
    "X_a = df[features_all].values"
   ]
  },
  {
   "cell_type": "code",
   "execution_count": 98,
   "metadata": {
    "colab": {
     "base_uri": "https://localhost:8080/",
     "height": 377
    },
    "colab_type": "code",
    "id": "zHXmGqFHxqgU",
    "outputId": "ee8ac4c6-8256-4383-f614-e13067d68ed7"
   },
   "outputs": [],
   "source": [
    "from sklearn.model_selection import cross_val_score\n",
    "scores = cross_val_score(clf2, X, Y,scoring='neg_mean_absolute_error', cv=10)"
   ]
  },
  {
   "cell_type": "code",
   "execution_count": 107,
   "metadata": {},
   "outputs": [
    {
     "data": {
      "text/plain": [
       "array([-26630420.54852885, -13342143.59603503,  -9867169.52300374,\n",
       "       -26924189.78003881, -14521522.9518774 , -30380997.71531231,\n",
       "       -16966314.9679961 , -13184460.38077016, -14128412.39475474,\n",
       "        -9981146.96005333])"
      ]
     },
     "execution_count": 107,
     "metadata": {},
     "output_type": "execute_result"
    }
   ],
   "source": [
    "scoresx = cross_val_score(clf4, X_a, Y,scoring='neg_mean_absolute_error', cv=10)\n",
    "scoresx"
   ]
  },
  {
   "cell_type": "code",
   "execution_count": 108,
   "metadata": {
    "colab": {
     "base_uri": "https://localhost:8080/",
     "height": 85
    },
    "colab_type": "code",
    "id": "3v2BkWDqx4WO",
    "outputId": "27415d81-318f-42ab-b94a-e53964f9182a"
   },
   "outputs": [
    {
     "data": {
      "text/plain": [
       "array([-18307255.57674495,  -7826046.64714334,  -7003263.60628952,\n",
       "       -28039748.70088787, -11814028.36527369, -29522201.16872944,\n",
       "       -16872913.40667851, -11651648.81698167, -13481110.65107   ,\n",
       "        -9105789.49935763])"
      ]
     },
     "execution_count": 108,
     "metadata": {},
     "output_type": "execute_result"
    }
   ],
   "source": [
    "scores"
   ]
  },
  {
   "cell_type": "code",
   "execution_count": 109,
   "metadata": {
    "colab": {},
    "colab_type": "code",
    "id": "MlQx4rr70gtz"
   },
   "outputs": [],
   "source": [
    "pred = -1*scores.mean()"
   ]
  },
  {
   "cell_type": "code",
   "execution_count": 110,
   "metadata": {
    "colab": {
     "base_uri": "https://localhost:8080/",
     "height": 51
    },
    "colab_type": "code",
    "id": "_tp1-2Io0mBS",
    "outputId": "184d937a-c049-4830-83b5-693d79847e70"
   },
   "outputs": [
    {
     "data": {
      "text/plain": [
       "Total Passengers    0.064899\n",
       "dtype: float64"
      ]
     },
     "execution_count": 110,
     "metadata": {},
     "output_type": "execute_result"
    }
   ],
   "source": [
    "pred/y.mean()"
   ]
  },
  {
   "cell_type": "code",
   "execution_count": 113,
   "metadata": {},
   "outputs": [
    {
     "data": {
      "text/plain": [
       "Total Passengers    0.074321\n",
       "dtype: float64"
      ]
     },
     "execution_count": 113,
     "metadata": {},
     "output_type": "execute_result"
    }
   ],
   "source": [
    "predx = -1*scoresx.mean()\n",
    "predx/y.mean()"
   ]
  },
  {
   "cell_type": "code",
   "execution_count": 106,
   "metadata": {
    "colab": {
     "base_uri": "https://localhost:8080/",
     "height": 119
    },
    "colab_type": "code",
    "id": "8KG3oVp8Oe5p",
    "outputId": "4acb266f-9d56-4bc8-fd52-e6b86f3d2ae5"
   },
   "outputs": [
    {
     "data": {
      "text/plain": [
       "array([[5.48640402e+08],\n",
       "       [4.50615098e+07],\n",
       "       [6.16149309e+07],\n",
       "       [5.98570342e+07],\n",
       "       [8.47263328e+07],\n",
       "       [3.61204623e+05]])"
      ]
     },
     "execution_count": 106,
     "metadata": {},
     "output_type": "execute_result"
    }
   ],
   "source": [
    "y_pred"
   ]
  },
  {
   "cell_type": "code",
   "execution_count": 0,
   "metadata": {
    "colab": {},
    "colab_type": "code",
    "id": "WF5NSrr3T6qY"
   },
   "outputs": [],
   "source": [
    "ratio = [0.164251162,0.058975531,0.086497048,0.072408272,0.016425116,0.026311782,0.113960956,0.076483306,0.077899116,0.110193269,0.082435873,0.114158644]"
   ]
  },
  {
   "cell_type": "code",
   "execution_count": 0,
   "metadata": {
    "colab": {
     "base_uri": "https://localhost:8080/",
     "height": 34
    },
    "colab_type": "code",
    "id": "EM5u0rrp1w9-",
    "outputId": "57d2ac60-3392-4ca5-ee7b-21d96de84527"
   },
   "outputs": [
    {
     "data": {
      "text/plain": [
       "1.000000075"
      ]
     },
     "execution_count": 34,
     "metadata": {
      "tags": []
     },
     "output_type": "execute_result"
    }
   ],
   "source": [
    "sum(ratio)"
   ]
  },
  {
   "cell_type": "code",
   "execution_count": 0,
   "metadata": {
    "colab": {},
    "colab_type": "code",
    "id": "5fu9pIAw15EY"
   },
   "outputs": [],
   "source": [
    "z = 10\n",
    "ans = []\n",
    "for val in ratio:\n",
    "  ans.append(z*val)"
   ]
  },
  {
   "cell_type": "code",
   "execution_count": 0,
   "metadata": {
    "colab": {
     "base_uri": "https://localhost:8080/",
     "height": 221
    },
    "colab_type": "code",
    "id": "i0oDroUz2Oq7",
    "outputId": "41e219f0-4db8-4248-f098-977506979411"
   },
   "outputs": [
    {
     "data": {
      "text/plain": [
       "[1.64251162,\n",
       " 0.5897553099999999,\n",
       " 0.8649704800000001,\n",
       " 0.72408272,\n",
       " 0.16425116,\n",
       " 0.26311782,\n",
       " 1.13960956,\n",
       " 0.76483306,\n",
       " 0.77899116,\n",
       " 1.10193269,\n",
       " 0.82435873,\n",
       " 1.14158644]"
      ]
     },
     "execution_count": 36,
     "metadata": {
      "tags": []
     },
     "output_type": "execute_result"
    }
   ],
   "source": [
    "ans"
   ]
  },
  {
   "cell_type": "code",
   "execution_count": 29,
   "metadata": {
    "colab": {
     "base_uri": "https://localhost:8080/",
     "height": 105
    },
    "colab_type": "code",
    "id": "lyViBCTR3qjc",
    "outputId": "d433aa95-2795-49f1-e533-c23eb4a8a63d"
   },
   "outputs": [
    {
     "data": {
      "text/plain": [
       "Ridge(alpha=1.0, copy_X=True, fit_intercept=True, max_iter=None,\n",
       "   normalize=False, random_state=None, solver='auto', tol=0.001)"
      ]
     },
     "execution_count": 29,
     "metadata": {},
     "output_type": "execute_result"
    }
   ],
   "source": [
    "from sklearn.linear_model import LinearRegression\n",
    "from sklearn.linear_model import Ridge\n",
    "final_model = Ridge(alpha=1.0)\n",
    "final_model.fit(df[features],df[target])"
   ]
  },
  {
   "cell_type": "code",
   "execution_count": 30,
   "metadata": {
    "colab": {},
    "colab_type": "code",
    "id": "uiP4k-psDwzY"
   },
   "outputs": [],
   "source": [
    "y = df[target]"
   ]
  },
  {
   "cell_type": "code",
   "execution_count": 31,
   "metadata": {
    "colab": {
     "base_uri": "https://localhost:8080/",
     "height": 377
    },
    "colab_type": "code",
    "id": "bpu2oeiN35BJ",
    "outputId": "2693e320-49ce-44eb-bb36-8d983f5e6994"
   },
   "outputs": [],
   "source": [
    "scores = cross_val_score(clf, X, Y,scoring='neg_mean_absolute_error', cv=10)"
   ]
  },
  {
   "cell_type": "code",
   "execution_count": 32,
   "metadata": {
    "colab": {
     "base_uri": "https://localhost:8080/",
     "height": 68
    },
    "colab_type": "code",
    "id": "mo09tBcpDZuM",
    "outputId": "f2006f60-9b45-4fa5-bed0-33891dd4dbcc"
   },
   "outputs": [
    {
     "name": "stdout",
     "output_type": "stream",
     "text": [
      "15362400.643915664\n",
      "Total Passengers    0.066476\n",
      "dtype: float64\n"
     ]
    }
   ],
   "source": [
    "pred = -1*scores.mean()\n",
    "print(pred)\n",
    "print(pred/y.mean())"
   ]
  },
  {
   "cell_type": "code",
   "execution_count": 33,
   "metadata": {
    "colab": {
     "base_uri": "https://localhost:8080/",
     "height": 377
    },
    "colab_type": "code",
    "id": "wOisS4NoCDaa",
    "outputId": "a0b7b695-c041-4027-b261-1d37b6d8b84a"
   },
   "outputs": [],
   "source": [
    "scores = cross_val_score(clf, X, Y,scoring='neg_mean_squared_error', cv=10)"
   ]
  },
  {
   "cell_type": "code",
   "execution_count": 34,
   "metadata": {
    "colab": {
     "base_uri": "https://localhost:8080/",
     "height": 68
    },
    "colab_type": "code",
    "id": "v5eUDVqUEKhW",
    "outputId": "5d7d6bd8-f7b9-40ac-c869-3b4d1210b6b8"
   },
   "outputs": [
    {
     "name": "stdout",
     "output_type": "stream",
     "text": [
      "399620933848414.6\n",
      "Total Passengers    0.007483\n",
      "dtype: float64\n"
     ]
    }
   ],
   "source": [
    "pred = -1*scores.mean()\n",
    "print(pred)\n",
    "print(pred/(y.mean()*y.mean()))"
   ]
  },
  {
   "cell_type": "code",
   "execution_count": 35,
   "metadata": {
    "colab": {
     "base_uri": "https://localhost:8080/",
     "height": 377
    },
    "colab_type": "code",
    "id": "4Dick8d8ER7u",
    "outputId": "3674e3df-412b-444f-9714-6651ef7fbdd9"
   },
   "outputs": [],
   "source": [
    "scores = cross_val_score(clf, X, Y,scoring='explained_variance', cv=10)"
   ]
  },
  {
   "cell_type": "code",
   "execution_count": 36,
   "metadata": {
    "colab": {
     "base_uri": "https://localhost:8080/",
     "height": 34
    },
    "colab_type": "code",
    "id": "CSCEDqlqEdrU",
    "outputId": "f42a5226-362a-4105-b142-c33244329c46"
   },
   "outputs": [
    {
     "data": {
      "text/plain": [
       "-1.4915768986934286"
      ]
     },
     "execution_count": 36,
     "metadata": {},
     "output_type": "execute_result"
    }
   ],
   "source": [
    "scores.mean()"
   ]
  },
  {
   "cell_type": "code",
   "execution_count": 37,
   "metadata": {
    "colab": {
     "base_uri": "https://localhost:8080/",
     "height": 377
    },
    "colab_type": "code",
    "id": "RdoXMx9kEe-3",
    "outputId": "8193ed3b-0486-412d-c62a-522a4c5ab565"
   },
   "outputs": [],
   "source": [
    "scores = cross_val_score(clf, X, Y,scoring='neg_mean_squared_log_error', cv=10)"
   ]
  },
  {
   "cell_type": "code",
   "execution_count": 38,
   "metadata": {
    "colab": {
     "base_uri": "https://localhost:8080/",
     "height": 34
    },
    "colab_type": "code",
    "id": "oNYfT6rNEo7R",
    "outputId": "c4e3b2d8-f5a9-4fb6-bbcd-f1e52a41b6ca"
   },
   "outputs": [
    {
     "data": {
      "text/plain": [
       "-0.25642456453618173"
      ]
     },
     "execution_count": 38,
     "metadata": {},
     "output_type": "execute_result"
    }
   ],
   "source": [
    "scores.mean()"
   ]
  },
  {
   "cell_type": "code",
   "execution_count": 39,
   "metadata": {
    "colab": {
     "base_uri": "https://localhost:8080/",
     "height": 377
    },
    "colab_type": "code",
    "id": "8GC2efMvEqU7",
    "outputId": "2a8b7335-b56b-4c73-bd58-89bb62438dff"
   },
   "outputs": [],
   "source": [
    "scores = cross_val_score(clf, X, Y,scoring='neg_median_absolute_error', cv=10)"
   ]
  },
  {
   "cell_type": "code",
   "execution_count": 40,
   "metadata": {
    "colab": {
     "base_uri": "https://localhost:8080/",
     "height": 34
    },
    "colab_type": "code",
    "id": "LFFWUq0cEz2_",
    "outputId": "ced5bf29-6238-4d2c-84d3-0072f577ccd5"
   },
   "outputs": [
    {
     "data": {
      "text/plain": [
       "-15569117.968329456"
      ]
     },
     "execution_count": 40,
     "metadata": {},
     "output_type": "execute_result"
    }
   ],
   "source": [
    "scores.mean()"
   ]
  },
  {
   "cell_type": "code",
   "execution_count": 41,
   "metadata": {
    "colab": {
     "base_uri": "https://localhost:8080/",
     "height": 377
    },
    "colab_type": "code",
    "id": "MX6WqBjEE0wP",
    "outputId": "8f3b3abd-d2bf-48a9-f32a-02d70a5be213"
   },
   "outputs": [],
   "source": [
    "scores = cross_val_score(clf, X, Y,scoring='r2', cv=10)"
   ]
  },
  {
   "cell_type": "code",
   "execution_count": 42,
   "metadata": {
    "colab": {
     "base_uri": "https://localhost:8080/",
     "height": 34
    },
    "colab_type": "code",
    "id": "ys8I8dp5E6mk",
    "outputId": "5c108714-a2db-4e35-cf0c-61667a18da12"
   },
   "outputs": [
    {
     "data": {
      "text/plain": [
       "-6.257432337666783"
      ]
     },
     "execution_count": 42,
     "metadata": {},
     "output_type": "execute_result"
    }
   ],
   "source": [
    "scores.mean()"
   ]
  },
  {
   "cell_type": "code",
   "execution_count": 0,
   "metadata": {
    "colab": {},
    "colab_type": "code",
    "id": "s5IDAQunE-cF"
   },
   "outputs": [],
   "source": []
  }
 ],
 "metadata": {
  "colab": {
   "name": "econ_best.ipynb",
   "provenance": [],
   "version": "0.3.2"
  },
  "kernelspec": {
   "display_name": "Python 3",
   "language": "python",
   "name": "python3"
  },
  "language_info": {
   "codemirror_mode": {
    "name": "ipython",
    "version": 3
   },
   "file_extension": ".py",
   "mimetype": "text/x-python",
   "name": "python",
   "nbconvert_exporter": "python",
   "pygments_lexer": "ipython3",
   "version": "3.6.6"
  }
 },
 "nbformat": 4,
 "nbformat_minor": 1
}
